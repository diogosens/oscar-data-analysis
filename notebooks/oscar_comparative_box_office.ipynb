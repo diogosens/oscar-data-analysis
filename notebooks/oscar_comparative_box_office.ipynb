{
 "cells": [
  {
   "cell_type": "code",
   "execution_count": 1,
   "id": "0b720dff",
   "metadata": {},
   "outputs": [],
   "source": [
    "import pandas as pd\n",
    "import numpy as np\n",
    "\n",
    "import warnings\n",
    "warnings.filterwarnings('ignore')"
   ]
  },
  {
   "cell_type": "code",
   "execution_count": 2,
   "id": "f3c09a3e",
   "metadata": {},
   "outputs": [],
   "source": [
    "top_box_office = pd.read_csv(\"top_box_office.csv\")"
   ]
  },
  {
   "cell_type": "code",
   "execution_count": 4,
   "id": "a3651dad",
   "metadata": {},
   "outputs": [],
   "source": [
    "oscar_best_movie_nominees_lite = pd.read_csv(\"oscar_best_movie_nominees_lite.csv\")"
   ]
  },
  {
   "cell_type": "code",
   "execution_count": 7,
   "id": "95aec1ed",
   "metadata": {},
   "outputs": [
    {
     "data": {
      "text/html": [
       "<div>\n",
       "<style scoped>\n",
       "    .dataframe tbody tr th:only-of-type {\n",
       "        vertical-align: middle;\n",
       "    }\n",
       "\n",
       "    .dataframe tbody tr th {\n",
       "        vertical-align: top;\n",
       "    }\n",
       "\n",
       "    .dataframe thead th {\n",
       "        text-align: right;\n",
       "    }\n",
       "</style>\n",
       "<table border=\"1\" class=\"dataframe\">\n",
       "  <thead>\n",
       "    <tr style=\"text-align: right;\">\n",
       "      <th></th>\n",
       "      <th>IMDbID</th>\n",
       "      <th>Title</th>\n",
       "      <th>Year</th>\n",
       "      <th>BoxOffice</th>\n",
       "      <th>OscarWinner</th>\n",
       "    </tr>\n",
       "  </thead>\n",
       "  <tbody>\n",
       "    <tr>\n",
       "      <th>0</th>\n",
       "      <td>tt9770150</td>\n",
       "      <td>Nomadland</td>\n",
       "      <td>2020</td>\n",
       "      <td>3700000.0</td>\n",
       "      <td>1</td>\n",
       "    </tr>\n",
       "    <tr>\n",
       "      <th>1</th>\n",
       "      <td>tt10272386</td>\n",
       "      <td>The Father</td>\n",
       "      <td>2020</td>\n",
       "      <td>2122771.0</td>\n",
       "      <td>0</td>\n",
       "    </tr>\n",
       "    <tr>\n",
       "      <th>2</th>\n",
       "      <td>tt9784798</td>\n",
       "      <td>Judas and the Black Messiah</td>\n",
       "      <td>2020</td>\n",
       "      <td>5478009.0</td>\n",
       "      <td>0</td>\n",
       "    </tr>\n",
       "    <tr>\n",
       "      <th>4</th>\n",
       "      <td>tt10633456</td>\n",
       "      <td>Minari</td>\n",
       "      <td>2020</td>\n",
       "      <td>3110580.0</td>\n",
       "      <td>0</td>\n",
       "    </tr>\n",
       "    <tr>\n",
       "      <th>5</th>\n",
       "      <td>tt9620292</td>\n",
       "      <td>Promising Young Woman</td>\n",
       "      <td>2020</td>\n",
       "      <td>6460965.0</td>\n",
       "      <td>0</td>\n",
       "    </tr>\n",
       "    <tr>\n",
       "      <th>...</th>\n",
       "      <td>...</td>\n",
       "      <td>...</td>\n",
       "      <td>...</td>\n",
       "      <td>...</td>\n",
       "      <td>...</td>\n",
       "    </tr>\n",
       "    <tr>\n",
       "      <th>469</th>\n",
       "      <td>tt0032904</td>\n",
       "      <td>The Philadelphia Story</td>\n",
       "      <td>1940</td>\n",
       "      <td>NaN</td>\n",
       "      <td>0</td>\n",
       "    </tr>\n",
       "    <tr>\n",
       "      <th>470</th>\n",
       "      <td>tt0031381</td>\n",
       "      <td>Gone with the Wind</td>\n",
       "      <td>1939</td>\n",
       "      <td>189523031.0</td>\n",
       "      <td>1</td>\n",
       "    </tr>\n",
       "    <tr>\n",
       "      <th>474</th>\n",
       "      <td>tt0031679</td>\n",
       "      <td>Mr. Smith Goes to Washington</td>\n",
       "      <td>1939</td>\n",
       "      <td>NaN</td>\n",
       "      <td>0</td>\n",
       "    </tr>\n",
       "    <tr>\n",
       "      <th>478</th>\n",
       "      <td>tt0032138</td>\n",
       "      <td>The Wizard of Oz</td>\n",
       "      <td>1939</td>\n",
       "      <td>NaN</td>\n",
       "      <td>0</td>\n",
       "    </tr>\n",
       "    <tr>\n",
       "      <th>479</th>\n",
       "      <td>tt0032145</td>\n",
       "      <td>Wuthering Heights</td>\n",
       "      <td>1939</td>\n",
       "      <td>624643.0</td>\n",
       "      <td>0</td>\n",
       "    </tr>\n",
       "  </tbody>\n",
       "</table>\n",
       "<p>346 rows × 5 columns</p>\n",
       "</div>"
      ],
      "text/plain": [
       "         IMDbID                         Title  Year    BoxOffice  OscarWinner\n",
       "0     tt9770150                     Nomadland  2020    3700000.0            1\n",
       "1    tt10272386                    The Father  2020    2122771.0            0\n",
       "2     tt9784798   Judas and the Black Messiah  2020    5478009.0            0\n",
       "4    tt10633456                        Minari  2020    3110580.0            0\n",
       "5     tt9620292         Promising Young Woman  2020    6460965.0            0\n",
       "..          ...                           ...   ...          ...          ...\n",
       "469   tt0032904        The Philadelphia Story  1940          NaN            0\n",
       "470   tt0031381            Gone with the Wind  1939  189523031.0            1\n",
       "474   tt0031679  Mr. Smith Goes to Washington  1939          NaN            0\n",
       "478   tt0032138              The Wizard of Oz  1939          NaN            0\n",
       "479   tt0032145             Wuthering Heights  1939     624643.0            0\n",
       "\n",
       "[346 rows x 5 columns]"
      ]
     },
     "execution_count": 7,
     "metadata": {},
     "output_type": "execute_result"
    }
   ],
   "source": [
    "oscar_best_movie_nominees_lite['Year'].replace({2021 : 2020}, inplace = True)"
   ]
  },
  {
   "cell_type": "code",
   "execution_count": 10,
   "id": "b5994667",
   "metadata": {},
   "outputs": [],
   "source": [
    "top_box_office_title_list = [np.nan] * len(oscar_best_movie_nominees_lite)\n",
    "top_box_office_value_list = [np.nan] * len(oscar_best_movie_nominees_lite)\n",
    "\n",
    "for i in range(len(oscar_best_movie_nominees_lite)):\n",
    "    for j in range(len(top_box_office)):\n",
    "        if oscar_best_movie_nominees_lite.iloc[i]['Year'] == top_box_office.iloc[j]['Year']:\n",
    "            top_box_office_title_list[i] = top_box_office.iloc[j]['Title']\n",
    "            top_box_office_value_list[i] = top_box_office.iloc[j]['BoxOffice']"
   ]
  },
  {
   "cell_type": "code",
   "execution_count": 11,
   "id": "8db7b0c2",
   "metadata": {},
   "outputs": [],
   "source": [
    "oscar_best_movie_nominees_lite['TopBoxOfficeTitle'] = top_box_office_title_list\n",
    "oscar_best_movie_nominees_lite['TopBoxOfficeValue'] = top_box_office_value_list"
   ]
  },
  {
   "cell_type": "code",
   "execution_count": 12,
   "id": "56c2dc90",
   "metadata": {},
   "outputs": [],
   "source": [
    "oscar_comparative_box_office = oscar_best_movie_nominees_lite[~oscar_best_movie_nominees_lite['TopBoxOfficeTitle'].isna()]"
   ]
  },
  {
   "cell_type": "code",
   "execution_count": 13,
   "id": "80111fe0",
   "metadata": {},
   "outputs": [],
   "source": [
    "oscar_comparative_box_office['BoxOffice'] = oscar_comparative_box_office['BoxOffice'].astype('float')"
   ]
  },
  {
   "cell_type": "code",
   "execution_count": 14,
   "id": "7dac1cc9",
   "metadata": {},
   "outputs": [],
   "source": [
    "oscar_comparative_box_office['BoxOfficeRatio'] = (oscar_comparative_box_office['BoxOffice']\n",
    "                                                  / oscar_comparative_box_office['TopBoxOfficeValue'])"
   ]
  },
  {
   "cell_type": "code",
   "execution_count": 15,
   "id": "9b1e398b",
   "metadata": {},
   "outputs": [],
   "source": [
    "oscar_comparative_box_office['BoxOfficePercentage'] = (oscar_comparative_box_office['BoxOfficeRatio'] * 100).round(2).astype('str') + '%'"
   ]
  },
  {
   "cell_type": "code",
   "execution_count": 19,
   "id": "c82eed83",
   "metadata": {},
   "outputs": [],
   "source": [
    "oscar_comparative_box_office = oscar_comparative_box_office[~oscar_comparative_box_office.BoxOffice.isna()]"
   ]
  },
  {
   "cell_type": "code",
   "execution_count": 25,
   "id": "f5519a2e",
   "metadata": {},
   "outputs": [],
   "source": [
    "oscar_comparative_box_office.sort_values(by = ['Year', 'BoxOfficeRatio'], ascending = False, inplace = True)"
   ]
  },
  {
   "cell_type": "code",
   "execution_count": 35,
   "id": "09e78257",
   "metadata": {},
   "outputs": [],
   "source": [
    "oscar_comparative_box_office.to_csv(\"oscar_comparative_box_office.csv\", index_label = False)"
   ]
  },
  {
   "cell_type": "code",
   "execution_count": null,
   "id": "765a25ba",
   "metadata": {},
   "outputs": [],
   "source": []
  }
 ],
 "metadata": {
  "kernelspec": {
   "display_name": "Python 3 (ipykernel)",
   "language": "python",
   "name": "python3"
  },
  "language_info": {
   "codemirror_mode": {
    "name": "ipython",
    "version": 3
   },
   "file_extension": ".py",
   "mimetype": "text/x-python",
   "name": "python",
   "nbconvert_exporter": "python",
   "pygments_lexer": "ipython3",
   "version": "3.9.7"
  }
 },
 "nbformat": 4,
 "nbformat_minor": 5
}
