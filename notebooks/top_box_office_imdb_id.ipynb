{
 "cells": [
  {
   "cell_type": "code",
   "execution_count": 1,
   "id": "34a996eb",
   "metadata": {},
   "outputs": [],
   "source": [
    "import pandas as pd\n",
    "from urllib.request import urlopen\n",
    "from bs4 import BeautifulSoup\n",
    "import numpy as np"
   ]
  },
  {
   "cell_type": "code",
   "execution_count": 3,
   "id": "d669d952",
   "metadata": {},
   "outputs": [],
   "source": [
    "url_base = 'https://www.boxofficemojo.com'\n",
    "\n",
    "years = np.arange(1977, 2022)\n",
    "title_list = []\n",
    "imdb_id_list = []\n",
    "\n",
    "for year in years:\n",
    "\n",
    "    # page with the list of yearly top box office\n",
    "\n",
    "    url = f\"{url_base}/year/world/{str(year)}/?sort=domesticGrossToDate&ref_=bo_ydw__resort#table\"\n",
    "    response = urlopen(url)\n",
    "    html = response.read()\n",
    "    soup = BeautifulSoup(html, 'html.parser')\n",
    "    title_list.append(soup.find('table').find_all('tr')[1].find_all('td')[1].get_text())\n",
    "\n",
    "    # page with the top one yearly top box office\n",
    "\n",
    "    url_release = url_base + soup.find('table').find_all('tr')[1].find_all('td')[1].find('a').get('href')\n",
    "    response = urlopen(url_release)\n",
    "    html = response.read()\n",
    "    soup = BeautifulSoup(html, 'html.parser')\n",
    "\n",
    "    # imdb id of the top one yearly top box office\n",
    "    imdb_id_list.append(soup.find('a', {'class' : 'a-link-normal mojo-title-link refiner-display-highlight'})\n",
    "                 .get('href').split('/')[2])\n",
    "    \n",
    "top_box_office_imdb_id = {\n",
    "    'Title' : title_list,\n",
    "    'IMDbID' : imdb_id_list\n",
    "}"
   ]
  },
  {
   "cell_type": "code",
   "execution_count": 5,
   "id": "ff94d390",
   "metadata": {},
   "outputs": [],
   "source": [
    "top_box_office_imdb_id_dataframe = pd.DataFrame(top_box_office_imdb_id, columns = top_box_office_imdb_id.keys())\n",
    "top_box_office_imdb_id_dataframe.to_csv(\"top_box_office_imdb_id.csv\", index_label = False)"
   ]
  }
 ],
 "metadata": {
  "kernelspec": {
   "display_name": "Python 3 (ipykernel)",
   "language": "python",
   "name": "python3"
  },
  "language_info": {
   "codemirror_mode": {
    "name": "ipython",
    "version": 3
   },
   "file_extension": ".py",
   "mimetype": "text/x-python",
   "name": "python",
   "nbconvert_exporter": "python",
   "pygments_lexer": "ipython3",
   "version": "3.9.7"
  }
 },
 "nbformat": 4,
 "nbformat_minor": 5
}
